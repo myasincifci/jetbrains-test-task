{
 "cells": [
  {
   "cell_type": "code",
   "execution_count": 1,
   "metadata": {},
   "outputs": [],
   "source": [
    "from linguist_wrapper import detect"
   ]
  },
  {
   "cell_type": "code",
   "execution_count": 2,
   "metadata": {},
   "outputs": [],
   "source": [
    "text_c = '''int *twoSum(int *nums, int numsSize, int target, int *returnSize)\n",
    "{\n",
    "    int i, j;\n",
    "    int *ret = calloc(2, sizeof(int));\n",
    "    for (i = 0; i < numsSize; i++)\n",
    "    {\n",
    "        int key = target - nums[i];\n",
    "        for (j = i + 1; j < numsSize; j++)\n",
    "            if (nums[j] == key)\n",
    "            {\n",
    "                ret[0] = i;\n",
    "                ret[1] = j;\n",
    "            }\n",
    "    }\n",
    "    *returnSize = 2;\n",
    "    return ret;\n",
    "}'''\n",
    "\n",
    "text_scala = '''package Mathematics\n",
    "\n",
    "object AbsMin {\n",
    "\n",
    "  /** Method returns Absolute minimum Element from the list\n",
    "    *\n",
    "    * @param listOfElements\n",
    "    * @return\n",
    "    */\n",
    "  def abs: Int => Int = Abs.abs\n",
    "\n",
    "  def absMin(elements: List[Int]): Int = abs(elements.minBy(x => abs(x)))\n",
    "\n",
    "}'''"
   ]
  },
  {
   "cell_type": "code",
   "execution_count": 3,
   "metadata": {},
   "outputs": [
    {
     "name": "stdout",
     "output_type": "stream",
     "text": [
      "C\n"
     ]
    }
   ],
   "source": [
    "detect(text_c)"
   ]
  },
  {
   "cell_type": "code",
   "execution_count": 4,
   "metadata": {},
   "outputs": [
    {
     "name": "stdout",
     "output_type": "stream",
     "text": [
      "Scala\n"
     ]
    }
   ],
   "source": [
    "detect(text_scala)"
   ]
  },
  {
   "cell_type": "code",
   "execution_count": null,
   "metadata": {},
   "outputs": [],
   "source": []
  }
 ],
 "metadata": {
  "interpreter": {
   "hash": "97bf38389241882591bc5b58182212ccb7638d7bba8ff68b6ab5f0fdb9d883f1"
  },
  "kernelspec": {
   "display_name": "Python 3.8.10 64-bit ('env': venv)",
   "name": "python3"
  },
  "language_info": {
   "codemirror_mode": {
    "name": "ipython",
    "version": 3
   },
   "file_extension": ".py",
   "mimetype": "text/x-python",
   "name": "python",
   "nbconvert_exporter": "python",
   "pygments_lexer": "ipython3",
   "version": "3.8.10"
  },
  "orig_nbformat": 4
 },
 "nbformat": 4,
 "nbformat_minor": 2
}